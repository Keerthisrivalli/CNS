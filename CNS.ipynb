{
  "nbformat": 4,
  "nbformat_minor": 0,
  "metadata": {
    "colab": {
      "provenance": [],
      "authorship_tag": "ABX9TyMNlQdexByS9fbvJKXDtasu",
      "include_colab_link": true
    },
    "kernelspec": {
      "name": "python3",
      "display_name": "Python 3"
    },
    "language_info": {
      "name": "python"
    }
  },
  "cells": [
    {
      "cell_type": "markdown",
      "metadata": {
        "id": "view-in-github",
        "colab_type": "text"
      },
      "source": [
        "<a href=\"https://colab.research.google.com/github/Keerthisrivalli/CNS/blob/main/CNS.ipynb\" target=\"_parent\"><img src=\"https://colab.research.google.com/assets/colab-badge.svg\" alt=\"Open In Colab\"/></a>"
      ]
    },
    {
      "cell_type": "code",
      "source": [
        "import socket\n",
        "import time\n",
        "import random\n"
      ],
      "metadata": {
        "id": "bjdNu3ziuMPO"
      },
      "execution_count": 6,
      "outputs": []
    },
    {
      "cell_type": "markdown",
      "source": [
        "Defines a set of firewall rules. You can customize these rules as needed.\n",
        "  Returns a dictionary where keys are IP addresses or ports, and values are booleans indicating allowed traffic."
      ],
      "metadata": {
        "id": "62Rhwxm4z6MW"
      }
    },
    {
      "cell_type": "code",
      "source": [
        "def create_firewall_rules():\n",
        "  # Creates a dictionary to store firewall rules.\n",
        "  firewall_rules = {\n",
        "    \"192.168.1.100\": True,  # Allow traffic from IP 192.168.1.100\n",
        "    \"80\": True,             # Allow traffic on port 80 (HTTP)\n",
        "    \"443\": True             # Allow traffic on port 443 (HTTPS)\n",
        "  }\n",
        "  return firewall_rules\n"
      ],
      "metadata": {
        "id": "WSD2Bhz7uMrj"
      },
      "execution_count": 7,
      "outputs": []
    },
    {
      "cell_type": "markdown",
      "source": [
        "Checks if traffic is allowed based on firewall rules.\n",
        "\n",
        "  Args:\n",
        "    ip_address: The IP address of the incoming traffic.\n",
        "    port: The port number of the incoming traffic.\n",
        "\n",
        "  Returns:\n",
        "    True if traffic is allowed, False otherwise."
      ],
      "metadata": {
        "id": "BKTBnh7Q0Aex"
      }
    },
    {
      "cell_type": "code",
      "source": [
        "def check_firewall(ip_address, port):\n",
        "\n",
        "  firewall_rules = create_firewall_rules()\n",
        "  if ip_address in firewall_rules and firewall_rules[ip_address]:\n",
        "    return True\n",
        "  if str(port) in firewall_rules and firewall_rules[str(port)]:\n",
        "    return True\n",
        "  return False"
      ],
      "metadata": {
        "id": "W64F6JExuQ87"
      },
      "execution_count": 8,
      "outputs": []
    },
    {
      "cell_type": "markdown",
      "source": [
        "Simulates network traffic and applies firewall rules."
      ],
      "metadata": {
        "id": "T40AWB8_0Sv3"
      }
    },
    {
      "cell_type": "code",
      "source": [
        "def simulate_network_traffic():\n",
        "\n",
        "    start_time = time.time()  # Get the start time\n",
        "    duration = 10  # Duration in seconds\n",
        "    while time.time() - start_time < duration:\n",
        "        # Generate a random IP address and port to simulate incoming traffic\n",
        "        ip_address = \".\".join(str(random.randint(0, 255)) for _ in range(4))\n",
        "        port = random.randint(1, 65535)\n",
        "\n",
        "        if check_firewall(ip_address, port):\n",
        "            print(f\"Allowing traffic from {ip_address} on port {port}\")\n",
        "        else:\n",
        "            print(f\"Blocking traffic from {ip_address} on port {port}\")\n",
        "        time.sleep(1)  # Make a delay between traffic checks\n"
      ],
      "metadata": {
        "id": "FYTt-ptiuUEl"
      },
      "execution_count": 12,
      "outputs": []
    },
    {
      "cell_type": "code",
      "source": [
        "if __name__ == \"__main__\":\n",
        "  simulate_network_traffic()"
      ],
      "metadata": {
        "colab": {
          "base_uri": "https://localhost:8080/"
        },
        "id": "hKgNwUP4uYgx",
        "outputId": "d2a480eb-dc4c-4472-80ca-311612602341"
      },
      "execution_count": 13,
      "outputs": [
        {
          "output_type": "stream",
          "name": "stdout",
          "text": [
            "Blocking traffic from 250.102.23.218 on port 33031\n",
            "Blocking traffic from 173.110.18.110 on port 41458\n",
            "Blocking traffic from 161.165.221.194 on port 64735\n",
            "Blocking traffic from 6.18.172.128 on port 38942\n",
            "Blocking traffic from 33.37.94.38 on port 53093\n",
            "Blocking traffic from 141.69.223.183 on port 946\n",
            "Blocking traffic from 75.135.17.158 on port 61792\n",
            "Blocking traffic from 179.15.78.139 on port 36588\n",
            "Blocking traffic from 104.35.183.174 on port 51687\n",
            "Blocking traffic from 220.132.179.93 on port 52007\n"
          ]
        }
      ]
    },
    {
      "cell_type": "markdown",
      "source": [],
      "metadata": {
        "id": "bkS1nBVTzIS_"
      }
    }
  ]
}